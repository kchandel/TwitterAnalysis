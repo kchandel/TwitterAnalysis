{
 "cells": [
  {
   "cell_type": "markdown",
   "metadata": {},
   "source": [
    "# Text mining of twitter data for the brand RELIANCE\n",
    "Python tweepy package is used to download tweets. \n",
    "Importing the required packages."
   ]
  },
  {
   "cell_type": "code",
   "execution_count": 1,
   "metadata": {
    "collapsed": true
   },
   "outputs": [],
   "source": [
    "import tweepy\n",
    "from tweepy import OAuthHandler"
   ]
  },
  {
   "cell_type": "markdown",
   "metadata": {},
   "source": [
    "# Registering the app on twitter\n",
    "In order to have access to Twitter data programmatically, we need to create an app that interacts with the Twitter API.\n",
    "After registering the app on twitter website, application settings are configured in python to download tweets data.\n",
    "In order to authorise our app to access Twitter on our behalf, we need to use the OAuth interface:"
   ]
  },
  {
   "cell_type": "code",
   "execution_count": 3,
   "metadata": {
    "collapsed": true
   },
   "outputs": [],
   "source": [
    "consumer_key = 'Kk4wq3V8YD9kwoiR78AyB6eW2'\n",
    "consumer_secret = '1WOGDjP2bZ8iE6LPTGbL5Q3e634Ikpol2TsowtSW6nGi2jJhjz'\n",
    "access_token = '2453552150-SQv11IQ0nmT5USbBNiHgX19DLBbbNIX4IFf2DDc'\n",
    "access_secret = 'P8ODdPMyZnOEtRX2OV9NyXfB2zX6yxHbsJ7eYy6B91E10'\n",
    "\n",
    "auth = OAuthHandler(consumer_key, consumer_secret)\n",
    "auth.set_access_token(access_token, access_secret)\n",
    " \n",
    "api = tweepy.API(auth)"
   ]
  },
  {
   "cell_type": "markdown",
   "metadata": {},
   "source": [
    "# Downlaoding tweets and saving to csv\n",
    "The api variable is now our entry point for most of the operations we can perform with Twitter. API search is used to download tweets for keyword 'RELIANCE'.\n",
    "Value of max_tweets variable is set to 1000 to download maximum of 1000 tweets.\n",
    "Python csvwriter interface is used to create a csv file named \"reliance_tweets.csv\""
   ]
  },
  {
   "cell_type": "code",
   "execution_count": 4,
   "metadata": {
    "collapsed": true
   },
   "outputs": [],
   "source": [
    "# Open/create a file to append data to\n",
    "import csv #Import csv\n",
    "csvFile = open('reliance_tweets.csv', 'a')\n",
    "\n",
    "#Use csv writer\n",
    "csvWriter = csv.writer(csvFile)\n",
    "query = 'reliance'\n",
    "max_tweets = 1000\n",
    "for tweet in tweepy.Cursor(api.search,\n",
    "                           q = query,\n",
    "                           lang = \"en\").items(max_tweets):\n",
    "\n",
    "    # Write a row to the CSV file. I use encode UTF-8\n",
    "    csvWriter.writerow([tweet.created_at, tweet.text.encode('utf-8')])\n",
    "    #print tweet.created_at, tweet.text\n",
    "csvFile.close()"
   ]
  },
  {
   "cell_type": "code",
   "execution_count": null,
   "metadata": {
    "collapsed": true
   },
   "outputs": [],
   "source": []
  }
 ],
 "metadata": {
  "kernelspec": {
   "display_name": "Python 3",
   "language": "python",
   "name": "python3"
  },
  "language_info": {
   "codemirror_mode": {
    "name": "ipython",
    "version": 3
   },
   "file_extension": ".py",
   "mimetype": "text/x-python",
   "name": "python",
   "nbconvert_exporter": "python",
   "pygments_lexer": "ipython3",
   "version": "3.5.2"
  }
 },
 "nbformat": 4,
 "nbformat_minor": 2
}
